{
 "cells": [
  {
   "cell_type": "markdown",
   "metadata": {
    "id": "Ij4Cglx7hnfe"
   },
   "source": [
    "\n",
    "## Get Requirements"
   ]
  },
  {
   "cell_type": "code",
   "execution_count": 1,
   "metadata": {
    "colab": {
     "base_uri": "https://localhost:8080/"
    },
    "id": "gLKQsBn-hgDN",
    "outputId": "dbe85e77-445f-4c6d-8e06-95495a5b7263"
   },
   "outputs": [
    {
     "name": "stdout",
     "output_type": "stream",
     "text": [
      "1.10.0\n"
     ]
    }
   ],
   "source": [
    "import warnings\n",
    "warnings.filterwarnings(\"ignore\")\n",
    "import torch\n",
    "from torchvision import transforms, datasets\n",
    "import torch.nn as nn\n",
    "from torch import optim as optim\n",
    "import numpy as np\n",
    "import matplotlib.pyplot as plt\n",
    "import h5py\n",
    "from pathlib import Path\n",
    "import torch\n",
    "from torch.utils import data\n",
    "import math\n",
    "import random\n",
    "from torch.utils.data import Dataset, DataLoader\n",
    "import time\n",
    "import glob\n",
    "import scipy.signal\n",
    "import os\n",
    "from einops import rearrange, reduce, repeat\n",
    "from einops.layers.torch import Rearrange, Reduce\n",
    "print(torch.__version__)\n",
    "\n",
    "\n",
    "from datasets.sleep_edf import split_data, SleepEDF_MultiChan_Dataset\n",
    "from models.epoch_cmt import Epoch_Cross_Transformer_Network\n",
    "from models.sequence_cmt import Seq_Cross_Transformer_Network \n",
    "from utils.metrics import accuracy, kappa, g_mean, plot_confusion_matrix, confusion_matrix, AverageMeter "
   ]
  },
  {
   "cell_type": "code",
   "execution_count": 2,
   "metadata": {},
   "outputs": [],
   "source": [
    "import os\n",
    "os.environ[\"CUDA_VISIBLE_DEVICES\"] = \"0\""
   ]
  },
  {
   "cell_type": "code",
   "execution_count": 3,
   "metadata": {
    "colab": {
     "base_uri": "https://localhost:8080/"
    },
    "id": "6YSLmONqhyVM",
    "outputId": "eaa51650-2d1e-4039-a2fe-0e2eb0202362"
   },
   "outputs": [],
   "source": [
    "device = torch.device(\"cuda\" if torch.cuda.is_available() else \"cpu\")\n",
    "device \n",
    "project_path = \"mmsm/Experiments/testing\"\n",
    "if not os.path.isdir(project_path):\n",
    "        os.makedirs(project_path)\n",
    "        print(f\"Project directory created at {project_path}\")"
   ]
  },
  {
   "cell_type": "markdown",
   "metadata": {
    "id": "mp-EzMvdOlRO"
   },
   "source": [
    "### Neptune (Ignore this block)"
   ]
  },
  {
   "cell_type": "code",
   "execution_count": 4,
   "metadata": {
    "colab": {
     "base_uri": "https://localhost:8080/"
    },
    "id": "EheutgQjObJ4",
    "outputId": "e20c8f8a-d449-457b-b93a-22fd43cce685"
   },
   "outputs": [],
   "source": [
    "is_neptune = False\n",
    "if is_neptune:\n",
    "    import neptune.new as neptune\n",
    "\n",
    "    run = neptune.init(\n",
    "        project=\"jathurshan0330/V2-Cros\",\n",
    "        api_token=\"eyJhcGlfYWRkcmVzcyI6Imh0dHBzOi8vYXBwLm5lcHR1bmUuYWkiLCJhcGlfdXJsIjoiaHR0cHM6Ly9hcHAubmVwdHVuZS5haSIsImFwaV9rZXkiOiJmYmRmNjE0Zi0xMDRkLTRlNzUtYmIxNi03NzM2ODBlZDc5NTMifQ==\",\n",
    "    )  # your credentials\n"
   ]
  },
  {
   "cell_type": "code",
   "execution_count": 5,
   "metadata": {
    "id": "pV_9lNe_x0Hd"
   },
   "outputs": [],
   "source": [
    " if is_neptune:\n",
    "    experiment = \"V2-Cros-76\"   #Change This\n",
    "    !mkdir \"/home/jathu/fyp_g15_sleep_monitoring/Experiments/Sleep_edfx/V2-Cros-76\"  # Change This"
   ]
  },
  {
   "cell_type": "markdown",
   "metadata": {
    "id": "ARyAHPPkl0JS"
   },
   "source": [
    "## Data"
   ]
  },
  {
   "cell_type": "code",
   "execution_count": 6,
   "metadata": {},
   "outputs": [
    {
     "name": "stdout",
     "output_type": "stream",
     "text": [
      "['/home/mmsm/Sleep_EDF_Dataset/x1.h5' '/home/mmsm/Sleep_EDF_Dataset/x2.h5'\n",
      " '/home/mmsm/Sleep_EDF_Dataset/x3.h5' '/home/mmsm/Sleep_EDF_Dataset/x4.h5']\n",
      "['/home/mmsm/Sleep_EDF_Dataset/x5.h5']\n",
      "['/home/mmsm/Sleep_EDF_Dataset/mean1.h5'\n",
      " '/home/mmsm/Sleep_EDF_Dataset/mean2.h5'\n",
      " '/home/mmsm/Sleep_EDF_Dataset/mean3.h5'\n",
      " '/home/mmsm/Sleep_EDF_Dataset/mean4.h5']\n",
      "['/home/mmsm/Sleep_EDF_Dataset/mean5.h5']\n",
      "['/home/mmsm/Sleep_EDF_Dataset/std1.h5'\n",
      " '/home/mmsm/Sleep_EDF_Dataset/std2.h5'\n",
      " '/home/mmsm/Sleep_EDF_Dataset/std3.h5'\n",
      " '/home/mmsm/Sleep_EDF_Dataset/std4.h5']\n",
      "['/home/mmsm/Sleep_EDF_Dataset/std5.h5']\n",
      "['/home/mmsm/Sleep_EDF_Dataset/eog1.h5'\n",
      " '/home/mmsm/Sleep_EDF_Dataset/eog2.h5'\n",
      " '/home/mmsm/Sleep_EDF_Dataset/eog3.h5'\n",
      " '/home/mmsm/Sleep_EDF_Dataset/eog4.h5']\n",
      "['/home/mmsm/Sleep_EDF_Dataset/eog5.h5']\n",
      "['/home/mmsm/Sleep_EDF_Dataset/eog_m1.h5'\n",
      " '/home/mmsm/Sleep_EDF_Dataset/eog_m2.h5'\n",
      " '/home/mmsm/Sleep_EDF_Dataset/eog_m3.h5'\n",
      " '/home/mmsm/Sleep_EDF_Dataset/eog_m4.h5']\n",
      "['/home/mmsm/Sleep_EDF_Dataset/eog_m5.h5']\n",
      "['/home/mmsm/Sleep_EDF_Dataset/eog_s1.h5'\n",
      " '/home/mmsm/Sleep_EDF_Dataset/eog_s2.h5'\n",
      " '/home/mmsm/Sleep_EDF_Dataset/eog_s3.h5'\n",
      " '/home/mmsm/Sleep_EDF_Dataset/eog_s4.h5']\n",
      "['/home/mmsm/Sleep_EDF_Dataset/eog_s5.h5']\n",
      "['/home/mmsm/Sleep_EDF_Dataset/y1.h5' '/home/mmsm/Sleep_EDF_Dataset/y2.h5'\n",
      " '/home/mmsm/Sleep_EDF_Dataset/y3.h5' '/home/mmsm/Sleep_EDF_Dataset/y4.h5']\n",
      "['/home/mmsm/Sleep_EDF_Dataset/y5.h5']\n"
     ]
    }
   ],
   "source": [
    "train_data_list = [0,1,2,3]  #4\n",
    "val_data_list = [4]  #4\n",
    "data_path = \"/home/mmsm/Sleep_EDF_Dataset\"\n",
    "\n",
    "eeg_list = glob.glob(f'{data_path}/x*.h5')\n",
    "eeg_list.sort()\n",
    "[train_eeg_list, val_eeg_list] = split_data(eeg_list,train_data_list,val_data_list)\n",
    "print(train_eeg_list)\n",
    "print(val_eeg_list)\n",
    "\n",
    "mean_eeg_list = glob.glob(f'{data_path}/mean*.h5')\n",
    "mean_eeg_list.sort()\n",
    "[train_mean_eeg_list, val_mean_eeg_list] = split_data(mean_eeg_list,train_data_list,val_data_list)\n",
    "print(train_mean_eeg_list)\n",
    "print(val_mean_eeg_list)\n",
    "\n",
    "sd_eeg_list = glob.glob(f'{data_path}/std*.h5')\n",
    "sd_eeg_list.sort()\n",
    "[train_sd_eeg_list, val_sd_eeg_list] = split_data(sd_eeg_list,train_data_list,val_data_list)\n",
    "print(train_sd_eeg_list)\n",
    "print(val_sd_eeg_list)\n",
    "\n",
    "#########################################################################################################################\n",
    "\n",
    "eog_list = glob.glob(f'{data_path}/eog*.h5')\n",
    "eog_list.sort()\n",
    "[train_eog_list, val_eog_list] = split_data(eog_list,train_data_list,val_data_list)\n",
    "print(train_eog_list)\n",
    "print(val_eog_list)\n",
    "\n",
    "mean_eog_list = glob.glob(f'{data_path}/eog_m*.h5')\n",
    "mean_eog_list.sort()\n",
    "[train_mean_eog_list, val_mean_eog_list] = split_data(mean_eog_list,train_data_list,val_data_list)\n",
    "print(train_mean_eog_list)\n",
    "print(val_mean_eog_list)\n",
    "\n",
    "sd_eog_list = glob.glob(f'{data_path}/eog_s*.h5')\n",
    "sd_eog_list.sort()\n",
    "[train_sd_eog_list, val_sd_eog_list] = split_data(sd_eog_list,train_data_list,val_data_list)\n",
    "print(train_sd_eog_list)\n",
    "print(val_sd_eog_list)\n",
    "\n",
    "\n",
    "label_list = glob.glob(f'{data_path}/y*.h5')\n",
    "label_list.sort()\n",
    "[train_label_list, val_label_list] = split_data(label_list,train_data_list,val_data_list)\n",
    "print(train_label_list)\n",
    "print(val_label_list)\n"
   ]
  },
  {
   "cell_type": "code",
   "execution_count": 7,
   "metadata": {
    "colab": {
     "base_uri": "https://localhost:8080/"
    },
    "id": "ELCDezM1Qkjs",
    "outputId": "3b314d02-e1cb-4164-8457-93800f41952f"
   },
   "outputs": [
    {
     "name": "stdout",
     "output_type": "stream",
     "text": [
      "Reading from /home/mmsm/Sleep_EDF_Dataset/x1.h5 ====================================================\n",
      "Keys in the h5py file : <KeysViewHDF5 ['x']>\n",
      "Number of samples : 43754\n",
      "Shape of each data : (43754, 1, 3000)\n",
      "Reading from /home/mmsm/Sleep_EDF_Dataset/eog1.h5 ====================================================\n",
      "Keys in the h5py file : <KeysViewHDF5 ['eog']>\n",
      "Number of samples : 43754\n",
      "Shape of each data : (43754, 1, 3000)\n",
      "Reading from /home/mmsm/Sleep_EDF_Dataset/y1.h5 ====================================================\n",
      "Keys in the h5py file : <KeysViewHDF5 ['y']>\n",
      "Number of samples : 43754\n",
      "Shape of each data : (43754,)\n",
      "Reading from /home/mmsm/Sleep_EDF_Dataset/x2.h5 ====================================================\n",
      "Keys in the h5py file : <KeysViewHDF5 ['x']>\n",
      "Number of samples : 40155\n",
      "Shape of each data : (40155, 1, 3000)\n",
      "Reading from /home/mmsm/Sleep_EDF_Dataset/eog2.h5 ====================================================\n",
      "Keys in the h5py file : <KeysViewHDF5 ['eog']>\n",
      "Number of samples : 40155\n",
      "Shape of each data : (40155, 1, 3000)\n",
      "Reading from /home/mmsm/Sleep_EDF_Dataset/y2.h5 ====================================================\n",
      "Keys in the h5py file : <KeysViewHDF5 ['y']>\n",
      "Number of samples : 40155\n",
      "Shape of each data : (40155,)\n",
      "Reading from /home/mmsm/Sleep_EDF_Dataset/x3.h5 ====================================================\n",
      "Keys in the h5py file : <KeysViewHDF5 ['x']>\n",
      "Number of samples : 35373\n",
      "Shape of each data : (35373, 1, 3000)\n",
      "Reading from /home/mmsm/Sleep_EDF_Dataset/eog3.h5 ====================================================\n",
      "Keys in the h5py file : <KeysViewHDF5 ['eog']>\n",
      "Number of samples : 35373\n",
      "Shape of each data : (35373, 1, 3000)\n",
      "Reading from /home/mmsm/Sleep_EDF_Dataset/y3.h5 ====================================================\n",
      "Keys in the h5py file : <KeysViewHDF5 ['y']>\n",
      "Number of samples : 35373\n",
      "Shape of each data : (35373,)\n",
      "Reading from /home/mmsm/Sleep_EDF_Dataset/x4.h5 ====================================================\n",
      "Keys in the h5py file : <KeysViewHDF5 ['x']>\n",
      "Number of samples : 40411\n",
      "Shape of each data : (40411, 1, 3000)\n",
      "Reading from /home/mmsm/Sleep_EDF_Dataset/eog4.h5 ====================================================\n",
      "Keys in the h5py file : <KeysViewHDF5 ['eog']>\n",
      "Number of samples : 40411\n",
      "Shape of each data : (40411, 1, 3000)\n",
      "Reading from /home/mmsm/Sleep_EDF_Dataset/y4.h5 ====================================================\n",
      "Keys in the h5py file : <KeysViewHDF5 ['y']>\n",
      "Number of samples : 40411\n",
      "Shape of each data : (40411,)\n",
      "Labels count: [54292 17253 56137 10814 21197]\n",
      "Shape of EEG : (159693, 1, 3000) , EOG : (159693, 1, 3000)\n",
      "Shape of Labels : torch.Size([159693])\n",
      "Reading Subject wise mean and sd\n",
      "Reading from /home/mmsm/Sleep_EDF_Dataset/mean1.h5 ====================================================\n",
      "Keys in the h5py file : <KeysViewHDF5 ['mean']>\n",
      "Number of samples : 43754\n",
      "Shape of each data : (43754,)\n",
      "Reading from /home/mmsm/Sleep_EDF_Dataset/std1.h5 ====================================================\n",
      "Keys in the h5py file : <KeysViewHDF5 ['std']>\n",
      "Number of samples : 43754\n",
      "Shape of each data : (43754,)\n",
      "Reading from /home/mmsm/Sleep_EDF_Dataset/eog_m1.h5 ====================================================\n",
      "Keys in the h5py file : <KeysViewHDF5 ['eog mean']>\n",
      "Number of samples : 43754\n",
      "Shape of each data : (43754,)\n",
      "Reading from /home/mmsm/Sleep_EDF_Dataset/eog_s1.h5 ====================================================\n",
      "Keys in the h5py file : <KeysViewHDF5 ['eog std']>\n",
      "Number of samples : 43754\n",
      "Shape of each data : (43754,)\n",
      "Reading from /home/mmsm/Sleep_EDF_Dataset/mean2.h5 ====================================================\n",
      "Keys in the h5py file : <KeysViewHDF5 ['mean']>\n",
      "Number of samples : 40155\n",
      "Shape of each data : (40155,)\n",
      "Reading from /home/mmsm/Sleep_EDF_Dataset/std2.h5 ====================================================\n",
      "Keys in the h5py file : <KeysViewHDF5 ['std']>\n",
      "Number of samples : 40155\n",
      "Shape of each data : (40155,)\n",
      "Reading from /home/mmsm/Sleep_EDF_Dataset/eog_m2.h5 ====================================================\n",
      "Keys in the h5py file : <KeysViewHDF5 ['eog mean']>\n",
      "Number of samples : 40155\n",
      "Shape of each data : (40155,)\n",
      "Reading from /home/mmsm/Sleep_EDF_Dataset/eog_s2.h5 ====================================================\n",
      "Keys in the h5py file : <KeysViewHDF5 ['eog std']>\n",
      "Number of samples : 40155\n",
      "Shape of each data : (40155,)\n",
      "Reading from /home/mmsm/Sleep_EDF_Dataset/mean3.h5 ====================================================\n",
      "Keys in the h5py file : <KeysViewHDF5 ['mean']>\n",
      "Number of samples : 35373\n",
      "Shape of each data : (35373,)\n",
      "Reading from /home/mmsm/Sleep_EDF_Dataset/std3.h5 ====================================================\n",
      "Keys in the h5py file : <KeysViewHDF5 ['std']>\n",
      "Number of samples : 35373\n",
      "Shape of each data : (35373,)\n",
      "Reading from /home/mmsm/Sleep_EDF_Dataset/eog_m3.h5 ====================================================\n",
      "Keys in the h5py file : <KeysViewHDF5 ['eog mean']>\n",
      "Number of samples : 35373\n",
      "Shape of each data : (35373,)\n",
      "Reading from /home/mmsm/Sleep_EDF_Dataset/eog_s3.h5 ====================================================\n",
      "Keys in the h5py file : <KeysViewHDF5 ['eog std']>\n",
      "Number of samples : 35373\n",
      "Shape of each data : (35373,)\n",
      "Reading from /home/mmsm/Sleep_EDF_Dataset/mean4.h5 ====================================================\n",
      "Keys in the h5py file : <KeysViewHDF5 ['mean']>\n",
      "Number of samples : 40411\n",
      "Shape of each data : (40411,)\n",
      "Reading from /home/mmsm/Sleep_EDF_Dataset/std4.h5 ====================================================\n",
      "Keys in the h5py file : <KeysViewHDF5 ['std']>\n",
      "Number of samples : 40411\n",
      "Shape of each data : (40411,)\n",
      "Reading from /home/mmsm/Sleep_EDF_Dataset/eog_m4.h5 ====================================================\n",
      "Keys in the h5py file : <KeysViewHDF5 ['eog mean']>\n",
      "Number of samples : 40411\n",
      "Shape of each data : (40411,)\n",
      "Reading from /home/mmsm/Sleep_EDF_Dataset/eog_s4.h5 ====================================================\n",
      "Keys in the h5py file : <KeysViewHDF5 ['eog std']>\n",
      "Number of samples : 40411\n",
      "Shape of each data : (40411,)\n",
      "Shapes of Mean  : EEG: (159693,), EOG : (159693,)\n",
      "Shapes of Sd  : EEG: (159693,), EOG : (159693,)\n",
      "Reading from /home/mmsm/Sleep_EDF_Dataset/x5.h5 ====================================================\n",
      "Keys in the h5py file : <KeysViewHDF5 ['x']>\n",
      "Number of samples : 36657\n",
      "Shape of each data : (36657, 1, 3000)\n",
      "Reading from /home/mmsm/Sleep_EDF_Dataset/eog5.h5 ====================================================\n",
      "Keys in the h5py file : <KeysViewHDF5 ['eog']>\n",
      "Number of samples : 36657\n",
      "Shape of each data : (36657, 1, 3000)\n",
      "Reading from /home/mmsm/Sleep_EDF_Dataset/y5.h5 ====================================================\n",
      "Keys in the h5py file : <KeysViewHDF5 ['y']>\n",
      "Number of samples : 36657\n",
      "Shape of each data : (36657,)\n",
      "Labels count: [12530  4269 12995  2225  4638]\n",
      "Shape of EEG : (36657, 1, 3000) , EOG : (36657, 1, 3000)\n",
      "Shape of Labels : torch.Size([36657])\n",
      "Reading Subject wise mean and sd\n",
      "Reading from /home/mmsm/Sleep_EDF_Dataset/mean5.h5 ====================================================\n",
      "Keys in the h5py file : <KeysViewHDF5 ['mean']>\n",
      "Number of samples : 36657\n",
      "Shape of each data : (36657,)\n",
      "Reading from /home/mmsm/Sleep_EDF_Dataset/std5.h5 ====================================================\n",
      "Keys in the h5py file : <KeysViewHDF5 ['std']>\n",
      "Number of samples : 36657\n",
      "Shape of each data : (36657,)\n",
      "Reading from /home/mmsm/Sleep_EDF_Dataset/eog_m5.h5 ====================================================\n",
      "Keys in the h5py file : <KeysViewHDF5 ['eog mean']>\n",
      "Number of samples : 36657\n",
      "Shape of each data : (36657,)\n",
      "Reading from /home/mmsm/Sleep_EDF_Dataset/eog_s5.h5 ====================================================\n",
      "Keys in the h5py file : <KeysViewHDF5 ['eog std']>\n",
      "Number of samples : 36657\n",
      "Shape of each data : (36657,)\n",
      "Shapes of Mean  : EEG: (36657,), EOG : (36657,)\n",
      "Shapes of Sd  : EEG: (36657,), EOG : (36657,)\n"
     ]
    }
   ],
   "source": [
    "train_dataset = SleepEDF_MultiChan_Dataset(eeg_file = train_eeg_list , \n",
    "                                           eog_file = train_eog_list, \n",
    "                                           label_file = train_label_list, \n",
    "                                           device = device, mean_eeg_l = train_mean_eeg_list, sd_eeg_l = train_sd_eeg_list, \n",
    "                                           mean_eog_l = train_mean_eog_list, sd_eog_l = train_sd_eog_list, \n",
    "                                           sub_wise_norm = True, \n",
    "                                           transform=transforms.Compose([\n",
    "                                               transforms.ToTensor(),\n",
    "                                                ]) )\n",
    "\n",
    "val_dataset = SleepEDF_MultiChan_Dataset(eeg_file = val_eeg_list ,\n",
    "                                         eog_file = val_eog_list, \n",
    "                                         label_file = val_label_list, \n",
    "                                         device = device, mean_eeg_l = val_mean_eeg_list, sd_eeg_l = val_sd_eeg_list,\n",
    "                                         mean_eog_l = val_mean_eog_list, sd_eog_l = val_sd_eog_list,\n",
    "                                         sub_wise_norm = True,\n",
    "                                         transform=transforms.Compose([\n",
    "                                               transforms.ToTensor(),\n",
    "                                                ]) )"
   ]
  },
  {
   "cell_type": "code",
   "execution_count": 8,
   "metadata": {
    "id": "IpXQ66ipml-q"
   },
   "outputs": [],
   "source": [
    "batch_size = 64\n",
    "train_data_loader = data.DataLoader(train_dataset, batch_size = batch_size, shuffle = True)\n",
    "val_data_loader = data.DataLoader(val_dataset, batch_size = 32, shuffle = True)"
   ]
  },
  {
   "cell_type": "code",
   "execution_count": 9,
   "metadata": {
    "colab": {
     "base_uri": "https://localhost:8080/",
     "height": 1000
    },
    "id": "O3c5Neaqmu6-",
    "outputId": "2dd0adc7-2e82-48aa-81b8-ac34d19b7f74"
   },
   "outputs": [
    {
     "name": "stdout",
     "output_type": "stream",
     "text": [
      "EEG batch shape: torch.Size([64, 1, 1, 3000])\n",
      "EOG batch shape: torch.Size([64, 1, 1, 3000])\n",
      "Labels batch shape: torch.Size([64])\n"
     ]
    },
    {
     "data": {
      "image/png": "[encoded data removed]",
      "text/plain": [
       "<Figure size 1080x360 with 1 Axes>"
      ]
     },
     "metadata": {
      "needs_background": "light"
     },
     "output_type": "display_data"
    },
    {
     "name": "stdout",
     "output_type": "stream",
     "text": [
      "EEG batch shape: torch.Size([32, 1, 1, 3000])\n",
      "EOG batch shape: torch.Size([32, 1, 1, 3000])\n",
      "Labels batch shape: torch.Size([32])\n"
     ]
    },
    {
     "data": {
      "image/png": "[encoded data removed]",
      "text/plain": [
       "<Figure size 720x720 with 1 Axes>"
      ]
     },
     "metadata": {
      "needs_background": "light"
     },
     "output_type": "display_data"
    },
    {
     "name": "stdout",
     "output_type": "stream",
     "text": [
      "EEG Minimum :-5.9242736939407035\n",
      "EEG Maximum :7.373364648818294\n",
      "EOG Minimum :-9.597861970446278\n",
      "EOG Maximum :9.308358448596389\n",
      "EEG Mean :0.0014975272005030812\n",
      "EEG Standard Deviation :0.9427593302541899\n",
      "EOG Mean :-0.00022797915340683813\n",
      "EOG Standard Deviation :1.0004089582760118\n"
     ]
    }
   ],
   "source": [
    "eeg_data, eog_data, label = next(iter(train_data_loader))\n",
    "print(f\"EEG batch shape: {eeg_data.size()}\")\n",
    "print(f\"EOG batch shape: {eog_data.size()}\")\n",
    "print(f\"Labels batch shape: {label.size()}\")\n",
    "\n",
    "t = np.arange(0,30,1/100)\n",
    "plt.figure(figsize = (15,5))\n",
    "plt.plot(t,eeg_data[0].squeeze(),label=\"EEG1\")\n",
    "plt.plot(t,eog_data[0].squeeze()+5,label=\"E0G\")\n",
    "plt.title(f\"Label {label[0].squeeze()}\")\n",
    "plt.legend()\n",
    "plt.show()\n",
    "\n",
    "\n",
    "eeg_data, eog_data, label = next(iter(val_data_loader))\n",
    "print(f\"EEG batch shape: {eeg_data.size()}\")\n",
    "print(f\"EOG batch shape: {eog_data.size()}\")\n",
    "print(f\"Labels batch shape: {label.size()}\")\n",
    "\n",
    "t = np.arange(0,30,1/100)\n",
    "plt.figure(figsize = (10,10))\n",
    "plt.plot(t,eeg_data[0].squeeze())\n",
    "plt.plot(t,eog_data[0].squeeze()+5)\n",
    "plt.title(f\"Label {label[0].squeeze()}\")\n",
    "plt.show()\n",
    "\n",
    "\n",
    "print(f\"EEG Minimum :{eeg_data.min()}\")\n",
    "print(f\"EEG Maximum :{eeg_data.max()}\")\n",
    "print(f\"EOG Minimum :{eog_data.min()}\")\n",
    "print(f\"EOG Maximum :{eog_data.max()}\")\n",
    "\n",
    "\n",
    "print(f\"EEG Mean :{torch.mean(eeg_data)}\")\n",
    "print(f\"EEG Standard Deviation :{torch.std(eeg_data)}\")\n",
    "print(f\"EOG Mean :{torch.mean(eog_data)}\")\n",
    "print(f\"EOG Standard Deviation :{torch.std(eog_data)}\")\n",
    "\n"
   ]
  },
  {
   "cell_type": "markdown",
   "metadata": {
    "id": "MAv7VEk-z9Ch"
   },
   "source": [
    "### Classification Model Cross Transformer"
   ]
  },
  {
   "cell_type": "code",
   "execution_count": 10,
   "metadata": {
    "colab": {
     "base_uri": "https://localhost:8080/"
    },
    "id": "BBI0JVRcz9Ck",
    "outputId": "5a21dd30-94a8-4779-b291-d4cb1a97eae2"
   },
   "outputs": [
    {
     "name": "stdout",
     "output_type": "stream",
     "text": [
      "weights: tensor([1., 2., 1., 2., 2.])\n",
      "torch.Size([32, 5]) torch.Size([32, 1, 512]) 3\n"
     ]
    }
   ],
   "source": [
    "import torch.optim as optim\n",
    "\n",
    "d_model = 256 \n",
    "dim_feedforward=1024 \n",
    "window_size = 50\n",
    "Net = Epoch_Cross_Transformer_Network(d_model = d_model, dim_feedforward=dim_feedforward,\n",
    "                                window_size = window_size ).to(device)\n",
    "# Net = torch.load(\"/home/jathu/fyp_g15_sleep_monitoring/Experiments/Sleep_edfx/Pretraining/VCROSPRE-23/Net_2_best_loss1.pth.tar\")\n",
    "\n",
    "lr = 0.001\n",
    "beta_1 =  0.9    \n",
    "beta_2 =  0.999    \n",
    "eps = 1e-9\n",
    "n_epochs = 1000\n",
    "weights = torch.tensor([1., 2., 1., 2., 2.])\n",
    "print(f\"weights: {weights}\")\n",
    "criterion = nn.CrossEntropyLoss(weight=weights)\n",
    "optimizer = torch.optim.Adam(Net.parameters(), lr=lr, betas=(beta_1, beta_2),eps = eps, weight_decay = 0.0001)\n",
    "lr_scheduler = torch.optim.lr_scheduler.StepLR(optimizer, step_size=30, gamma=0.5) \n",
    "pred,cls_outs,feat_list = Net(eeg_data.float().to(device), eog_data.float().to(device),finetune = True)\n",
    "print(pred.shape,cls_outs.shape,len(feat_list))"
   ]
  },
  {
   "cell_type": "code",
   "execution_count": 11,
   "metadata": {
    "id": "wCowMlFVz9Cl"
   },
   "outputs": [],
   "source": [
    "if is_neptune:\n",
    "    parameters = {\n",
    "        \"Experiment\" : \"Training test\",\n",
    "        'Model Type' : \"Epoch Cross-Modal Transformer\",\n",
    "        'd_model' : d_model,\n",
    "        'dim_feedforward' : dim_feedforward,\n",
    "        'window_size ':window_size ,\n",
    "        'Batch Size': batch_size,\n",
    "        'Loss': f\"Weighted Categorical Loss,{weights}\",  # Check this every time\n",
    "        'Optimizer' : \"Adam\",        # Check this every time   \n",
    "        'Learning Rate': lr,\n",
    "        'eps' : eps,\n",
    "        \"LR Schduler\": \"StepLR\",\n",
    "        'Beta 1': beta_1,\n",
    "        'Beta 2': beta_2,\n",
    "        'n_epochs': n_epochs,\n",
    "        'val_set' : val_data_list[0]+1,\n",
    "        'threshold': 0.5\n",
    "    }\n",
    "    run['model/parameters'] = parameters\n",
    "    run['model/model_architecture'] = Net"
   ]
  },
  {
   "cell_type": "markdown",
   "metadata": {},
   "source": [
    "### Training"
   ]
  },
  {
   "cell_type": "code",
   "execution_count": null,
   "metadata": {
    "colab": {
     "base_uri": "https://localhost:8080/"
    },
    "id": "_4Pl9HUrz9Cn",
    "outputId": "378a408d-cc32-4248-a2b6-a036a00d34e2"
   },
   "outputs": [
    {
     "name": "stdout",
     "output_type": "stream",
     "text": [
      "===========================================================Training Epoch : [1/1000] ===========================================================================================================>\n",
      "Epoch: [1/1000][0/2496]\tTrain_Loss 1.87022 (1.87022)\tTrain_Acc 0.12500 (0.12500)\tTrain_G-Mean 0.45154(0.45154)\tTrain_Kappa 0.05160(0.05160)\tTrain_MF1 0.10677(0.10677)\tTrain_Precision 0.31053(0.31053)\tTrain_Sensitivity 0.25072(0.25072)\tTrain_Specificity 0.81319(0.81319)\tTime 0.261s (0.261s)\tSpeed 245.1 samples/s\tData 0.067s (0.067s)\t\n",
      "Epoch: [1/1000][1000/2496]\tTrain_Loss 0.74587 (0.89480)\tTrain_Acc 0.78125 (0.68073)\tTrain_G-Mean 0.81036(0.74815)\tTrain_Kappa 0.69586(0.56398)\tTrain_MF1 0.73147(0.57726)\tTrain_Precision 0.79762(0.59870)\tTrain_Sensitivity 0.69931(0.61316)\tTrain_Specificity 0.93905(0.91799)\tTime 0.057s (0.062s)\tSpeed 1124.2 samples/s\tData 0.020s (0.023s)\t\n"
     ]
    }
   ],
   "source": [
    "# Training the model\n",
    "best_val_acc = 0\n",
    "best_val_kappa = 0\n",
    "for epoch_idx in range(n_epochs):  # loop over the dataset multiple times\n",
    "    if is_neptune:\n",
    "        run['train/epoch/learning_Rate'].log(optimizer.param_groups[0][\"lr\"]) \n",
    "    Net.train()\n",
    "    print(f'===========================================================Training Epoch : [{epoch_idx+1}/{n_epochs}] ===========================================================================================================>')\n",
    "    batch_time = AverageMeter()\n",
    "    data_time = AverageMeter()\n",
    "    \n",
    "    losses = AverageMeter()\n",
    "    val_losses = AverageMeter()\n",
    "    \n",
    "    train_accuracy = AverageMeter()\n",
    "    val_accuracy = AverageMeter()\n",
    "\n",
    "    train_sensitivity = AverageMeter()\n",
    "    val_sensitivity = AverageMeter()\n",
    "    \n",
    "    train_specificity = AverageMeter()\n",
    "    val_specificity = AverageMeter()\n",
    "\n",
    "    train_gmean = AverageMeter()\n",
    "    val_gmean = AverageMeter()\n",
    "\n",
    "    train_kappa = AverageMeter()\n",
    "    val_kappa = AverageMeter()\n",
    "\n",
    "    train_f1_score = AverageMeter()\n",
    "    val_f1_score = AverageMeter()\n",
    "\n",
    "    train_precision = AverageMeter()\n",
    "    val_precision = AverageMeter()\n",
    "\n",
    "    class1_sens = AverageMeter()\n",
    "    class2_sens = AverageMeter()\n",
    "    class3_sens = AverageMeter()\n",
    "    class4_sens = AverageMeter()\n",
    "    class5_sens = AverageMeter()\n",
    "\n",
    "    class1_spec = AverageMeter()\n",
    "    class2_spec = AverageMeter()\n",
    "    class3_spec = AverageMeter()\n",
    "    class4_spec = AverageMeter()\n",
    "    class5_spec = AverageMeter()\n",
    "\n",
    "    class1_f1 = AverageMeter()\n",
    "    class2_f1 = AverageMeter()\n",
    "    class3_f1 = AverageMeter()\n",
    "    class4_f1 = AverageMeter()\n",
    "    class5_f1 = AverageMeter()\n",
    "\n",
    "    end = time.time()\n",
    "\n",
    "    for batch_idx, data_input in enumerate(train_data_loader):\n",
    "        data_time.update(time.time() - end)\n",
    "        eeg,eog, labels = data_input\n",
    "        cur_batch_size = len(eeg)\n",
    "        \n",
    "        optimizer.zero_grad()\n",
    "\n",
    "        outputs,_,_ = Net(eeg.float().to(device), eog.float().to(device),finetune = True)\n",
    "\n",
    "        loss = criterion(outputs.cpu(), labels)\n",
    "\n",
    "\n",
    "        loss.backward()\n",
    "        optimizer.step()\n",
    "        \n",
    "        losses.update(loss.data.item())\n",
    "        train_accuracy.update(accuracy(outputs.cpu(), labels))\n",
    "\n",
    "        _,_,_,_,sens,spec,f1, prec = confusion_matrix(outputs.cpu(), labels, 5, cur_batch_size)\n",
    "        train_sensitivity.update(sens)\n",
    "        train_specificity.update(spec)\n",
    "        train_f1_score.update(f1)\n",
    "        train_precision.update(prec)\n",
    "        train_gmean.update(g_mean(sens, spec))\n",
    "        train_kappa.update(kappa(outputs.cpu(), labels))\n",
    "        \n",
    "        if is_neptune:\n",
    "            run['train/epoch/batch_loss'].log(losses.val)     #1\n",
    "            run['train/epoch/batch_accuracy'].log(train_accuracy.val)\n",
    "        \n",
    "        # measure elapsed time\n",
    "        batch_time.update(time.time() - end)\n",
    "        end = time.time()\n",
    "\n",
    "\n",
    "        if batch_idx % 1000 == 0:\n",
    "            \n",
    "            msg = 'Epoch: [{0}/{3}][{1}/{2}]\\t' \\\n",
    "                  'Train_Loss {loss.val:.5f} ({loss.avg:.5f})\\t'\\\n",
    "                  'Train_Acc {train_acc.val:.5f} ({train_acc.avg:.5f})\\t'\\\n",
    "                  'Train_G-Mean {train_gmean.val:.5f}({train_gmean.avg:.5f})\\t'\\\n",
    "                  'Train_Kappa {train_kap.val:.5f}({train_kap.avg:.5f})\\t'\\\n",
    "                  'Train_MF1 {train_mf1.val:.5f}({train_mf1.avg:.5f})\\t'\\\n",
    "                  'Train_Precision {train_prec.val:.5f}({train_prec.avg:.5f})\\t'\\\n",
    "                  'Train_Sensitivity {train_sens.val:.5f}({train_sens.avg:.5f})\\t'\\\n",
    "                  'Train_Specificity {train_spec.val:.5f}({train_spec.avg:.5f})\\t'\\\n",
    "                  'Time {batch_time.val:.3f}s ({batch_time.avg:.3f}s)\\t' \\\n",
    "                  'Speed {speed:.1f} samples/s\\t' \\\n",
    "                  'Data {data_time.val:.3f}s ({data_time.avg:.3f}s)\\t'.format(\n",
    "                      epoch_idx+1, batch_idx, len(train_data_loader),n_epochs, batch_time=batch_time,\n",
    "                      speed=data_input[0].size(0)/batch_time.val,\n",
    "                      data_time=data_time, loss=losses, train_acc = train_accuracy,\n",
    "                      train_sens =train_sensitivity, train_spec = train_specificity, train_gmean = train_gmean,\n",
    "                      train_kap = train_kappa, train_mf1 = train_f1_score, train_prec = train_precision)\n",
    "            print(msg)\n",
    "\n",
    "\n",
    "    #evaluation\n",
    "    with torch.no_grad():\n",
    "      Net.eval()\n",
    "      for batch_val_idx, data_val in enumerate(val_data_loader):\n",
    "        val_eeg,val_eog, val_labels = data_val\n",
    "        cur_val_batch_size = len(val_eeg)\n",
    "        pred,_,_ = Net(val_eeg.float().to(device), val_eog.float().to(device),finetune = True)\n",
    "\n",
    "        val_loss = criterion(pred.cpu(), val_labels)#\n",
    "        val_losses.update(val_loss.data.item())\n",
    "        val_accuracy.update(accuracy(pred.cpu(), val_labels))\n",
    "\n",
    "        sens_list,spec_list,f1_list,prec_list, sens,spec,f1,prec = confusion_matrix(pred.cpu(), val_labels,  5, cur_val_batch_size)\n",
    "        val_sensitivity.update(sens)\n",
    "        val_specificity.update(spec)\n",
    "        val_f1_score.update(f1)\n",
    "        val_precision.update(prec)\n",
    "        val_gmean.update(g_mean(sens, spec))\n",
    "        val_kappa.update(kappa(pred.cpu(), val_labels))\n",
    "\n",
    "        class1_sens.update(sens_list[0])\n",
    "        class2_sens.update(sens_list[1])\n",
    "        class3_sens.update(sens_list[2])\n",
    "        class4_sens.update(sens_list[3])\n",
    "        class5_sens.update(sens_list[4])\n",
    "\n",
    "        class1_spec.update(spec_list[0])\n",
    "        class2_spec.update(spec_list[1])\n",
    "        class3_spec.update(spec_list[2])\n",
    "        class4_spec.update(spec_list[3])\n",
    "        class5_spec.update(spec_list[4])\n",
    "\n",
    "        class1_f1.update(f1_list[0])\n",
    "        class2_f1.update(f1_list[1])\n",
    "        class3_f1.update(f1_list[2])\n",
    "        class4_f1.update(f1_list[3])\n",
    "        class5_f1.update(f1_list[4])\n",
    "\n",
    "      print(batch_val_idx)\n",
    "\n",
    "     \n",
    "\n",
    "      print(f'===========================================================Epoch : [{epoch_idx+1}/{n_epochs}]  Evaluation ===========================================================================================================>')\n",
    "      print(\"Training Results : \")\n",
    "      print(f\"Training Loss     : {losses.avg}, Training Accuracy      : {train_accuracy.avg}, Training G-Mean      : {train_gmean.avg}\") \n",
    "      print(f\"Training Kappa      : {train_kappa.avg},Training MF1     : {train_f1_score.avg}, Training Precision      : {train_precision.avg}, Training Sensitivity      : {train_sensitivity.avg}, Training Specificity      : {train_specificity.avg}\")\n",
    "      \n",
    "      print(\"Validation Results : \")\n",
    "      print(f\"Validation Loss   : {val_losses.avg}, Validation Accuracy : {val_accuracy.avg}, Validation G-Mean      : {val_gmean.avg}\") \n",
    "      print(f\"Validation Kappa     : {val_kappa.avg}, Validation MF1      : {val_f1_score.avg}, Validation Precision      : {val_precision.avg},  Validation Sensitivity      : {val_sensitivity.avg}, Validation Specificity      : {val_specificity.avg}\")\n",
    "    \n",
    "\n",
    "      print(f\"Class wise sensitivity W: {class1_sens.avg}, S1: {class2_sens.avg}, S2: {class3_sens.avg}, S3: {class4_sens.avg}, R: {class5_sens.avg}\")\n",
    "      print(f\"Class wise specificity W: {class1_spec.avg}, S1: {class2_spec.avg}, S2: {class3_spec.avg}, S3: {class4_spec.avg}, R: {class5_spec.avg}\")\n",
    "      print(f\"Class wise F1  W: {class1_f1.avg}, S1: {class2_f1.avg}, S2: {class3_f1.avg}, S3: {class4_f1.avg}, R: {class5_f1.avg}\")\n",
    "\n",
    "      if is_neptune:\n",
    "        run['train/epoch/epoch_train_loss'].log(losses.avg)\n",
    "        run['train/epoch/epoch_val_loss'].log(val_losses.avg)\n",
    "\n",
    "        run['train/epoch/epoch_train_accuracy'].log(train_accuracy.avg)\n",
    "        run['train/epoch/epoch_val_accuracy'].log(val_accuracy.avg)\n",
    "\n",
    "        run['train/epoch/epoch_train_sensitivity'].log(train_sensitivity.avg)\n",
    "        run['train/epoch/epoch_val_sensitivity'].log(val_sensitivity.avg)\n",
    "\n",
    "        run['train/epoch/epoch_train_specificity'].log(train_specificity.avg)\n",
    "        run['train/epoch/epoch_val_specificity'].log(val_specificity.avg)\n",
    "\n",
    "        run['train/epoch/epoch_train_G-Mean'].log(train_gmean.avg)\n",
    "        run['train/epoch/epoch_val_G-Mean'].log(val_gmean.avg)\n",
    "\n",
    "        run['train/epoch/epoch_train_Kappa'].log(train_kappa.avg)\n",
    "        run['train/epoch/epoch_val_Kappa'].log(val_kappa.avg)\n",
    "\n",
    "        run['train/epoch/epoch_train_MF1 Score'].log(train_f1_score.avg)\n",
    "        run['train/epoch/epoch_val_MF1 Score'].log(val_f1_score.avg)\n",
    "\n",
    "        run['train/epoch/epoch_train_Precision'].log(train_precision.avg)\n",
    "        run['train/epoch/epoch_val_Precision'].log(val_precision.avg)\n",
    "\n",
    "        #################################\n",
    "\n",
    "        run['train/epoch/epoch_val_Class wise sensitivity W'].log(class1_sens.avg)\n",
    "        run['train/epoch/epoch_val_Class wise sensitivity S1'].log(class2_sens.avg)\n",
    "        run['train/epoch/epoch_val_Class wise sensitivity S2'].log(class3_sens.avg)\n",
    "        run['train/epoch/epoch_val_Class wise sensitivity S3'].log(class4_sens.avg)\n",
    "        run['train/epoch/epoch_val_Class wise sensitivity R'].log(class5_sens.avg)\n",
    "\n",
    "        run['train/epoch/epoch_val_Class wise specificity W'].log(class1_spec.avg)\n",
    "        run['train/epoch/epoch_val_Class wise specificity S1'].log(class2_spec.avg)\n",
    "        run['train/epoch/epoch_val_Class wise specificity S2'].log(class3_spec.avg)\n",
    "        run['train/epoch/epoch_val_Class wise specificity S3'].log(class4_spec.avg)\n",
    "        run['train/epoch/epoch_val_Class wise specificity R'].log(class5_spec.avg)\n",
    "\n",
    "        run['train/epoch/epoch_val_Class wise F1 Score W'].log(class1_f1.avg)\n",
    "        run['train/epoch/epoch_val_Class wise F1 Score S1'].log(class2_f1.avg)\n",
    "        run['train/epoch/epoch_val_Class wise F1 Score S2'].log(class3_f1.avg)\n",
    "        run['train/epoch/epoch_val_Class wise F1 Score S3'].log(class4_f1.avg)\n",
    "        run['train/epoch/epoch_val_Class wise F1 Score R'].log(class5_f1.avg)\n",
    "\n",
    "      if val_accuracy.avg > best_val_acc or (epoch_idx+1)%100==0 or val_kappa.avg > best_val_kappa:\n",
    "          if val_accuracy.avg > best_val_acc:\n",
    "            best_val_acc = val_accuracy.avg\n",
    "            print(\"================================================================================================\")\n",
    "            print(\"                                          Saving Best Model (ACC)                                     \")\n",
    "            print(\"================================================================================================\")\n",
    "            torch.save(Net, f'{project_path}/checkpoint_model_best_acc.pth.tar')\n",
    "          if val_kappa.avg > best_val_kappa:\n",
    "            best_val_kappa = val_kappa.avg\n",
    "            print(\"================================================================================================\")\n",
    "            print(\"                                          Saving Best Model (Kappa)                                    \")\n",
    "            print(\"================================================================================================\")\n",
    "            torch.save(Net, f'{project_path}/checkpoint_model_best_kappa.pth.tar')\n",
    "          if (epoch_idx+1)%50==0:\n",
    "            torch.save(Net, f'{project_path}/checkpoint_model_epoch_{epoch_idx+1}.pth.tar')\n",
    "    lr_scheduler.step()\n",
    "         \n",
    "print('========================================Finished Training ===========================================')"
   ]
  },
  {
   "cell_type": "code",
   "execution_count": null,
   "metadata": {},
   "outputs": [],
   "source": []
  }
 ],
 "metadata": {
  "colab": {
   "collapsed_sections": [
    "mp-EzMvdOlRO",
    "BGlbwPN1z9Co"
   ],
   "name": " Jathu_Sleep_Stage_Classification_(Cross Transformer)_sleepEDF_(EEG,EEG2,EOG).ipynb",
   "provenance": []
  },
  "interpreter": {
   "hash": "94c91063cbfafe7dd443522ce7f45eaee09f9c12e6866a8b2d3ce13a69535fc6"
  },
  "kernelspec": {
   "display_name": "sleep_monitoring",
   "language": "python",
   "name": "sleep_monitoring"
  },
  "language_info": {
   "codemirror_mode": {
    "name": "ipython",
    "version": 3
   },
   "file_extension": ".py",
   "mimetype": "text/x-python",
   "name": "python",
   "nbconvert_exporter": "python",
   "pygments_lexer": "ipython3",
   "version": "3.6.15"
  }
 },
 "nbformat": 4,
 "nbformat_minor": 4
}
